{
 "cells": [
  {
   "cell_type": "code",
   "execution_count": 1,
   "metadata": {},
   "outputs": [],
   "source": [
    "import gurobipy as gp"
   ]
  },
  {
   "cell_type": "code",
   "execution_count": 2,
   "metadata": {},
   "outputs": [],
   "source": [
    "M = 5\n",
    "N = 10\n",
    "\n",
    "cs_i = [ 400 , 100 , 600 , 1000 , 150 ]\n",
    "ct_jk = [ 2 , 10 , 50 , 3 , 5 , 6 , 15 , 30 , 18 , 30 ]\n",
    "\n",
    "P_j = [ 100 , 30 , 5 , 130 , 55 , 40 , 15 , 30 , 50 , 10 ]\n",
    "c_jk = [ 10 , 50 , 500 , 15 , 25 , 30 , 75 , 150 , 90 , 80 ]\n",
    "\n",
    "\n",
    "es_i = [ 1 , 1 , 1 , 1 , 1 ]\n",
    "et_jk = [  1 , 1 , 1 , 1 , 1 , 1 , 1 , 1 , 1 , 1 ]"
   ]
  },
  {
   "cell_type": "code",
   "execution_count": 3,
   "metadata": {},
   "outputs": [],
   "source": [
    "# Rotulos dos clientes\n",
    "clients = []\n",
    "for j in range(N):\n",
    "    clients.append(f\"Client_{j}\")\n",
    "\n",
    "# Rotulos das squads\n",
    "squads = []\n",
    "for i in range(M):\n",
    "    squads.append(f\"Squad_{i}\")\n",
    "\n",
    "# Rotulos das tarefas\n",
    "tasks = []\n",
    "for j in range(N):\n",
    "    tasks_j  = []\n",
    "    for k in range(P_j[j]):\n",
    "        tasks_j.append(f\"Task_{j}_{k}\")\n",
    "    \n",
    "    tasks.append(tasks_j)\n"
   ]
  },
  {
   "cell_type": "code",
   "execution_count": 4,
   "metadata": {},
   "outputs": [],
   "source": [
    "# Dicionário das capacidades das Squads\n",
    "capacities = {}\n",
    "specialty = {}\n",
    "for i, cap in enumerate(cs_i):\n",
    "    label = squads[i]\n",
    "    capacities[label] = cap\n",
    "    specialty[label] = es_i[i]\n",
    "\n",
    "# Dicionário da quantidade de tarefas por cliente\n",
    "qtd_tasks = {}\n",
    "for j, qtd in enumerate(P_j):\n",
    "    label = clients[j]\n",
    "    qtd_tasks[label] = qtd\n",
    "\n",
    "# Dicionário de valor, Story Points e especialidade de cada tarefa\n",
    "values = []\n",
    "story_points = []\n",
    "req_expertness = []\n",
    "for j, qtd in enumerate(P_j):\n",
    "    value = {}\n",
    "    story_point = {}\n",
    "    req_expertise = {}\n",
    "    for k, label in enumerate(tasks[j]):\n",
    "        value[label] = c_jk[j]\n",
    "        story_point[label] = ct_jk[j]\n",
    "        req_expertise[label] = et_jk[j]\n",
    "    \n",
    "    values.append(value)\n",
    "    story_points.append(story_point)\n",
    "    req_expertness.append(req_expertise)"
   ]
  },
  {
   "cell_type": "code",
   "execution_count": 5,
   "metadata": {},
   "outputs": [
    {
     "name": "stdout",
     "output_type": "stream",
     "text": [
      "Set parameter Username\n",
      "Academic license - for non-commercial use only - expires 2023-10-21\n"
     ]
    }
   ],
   "source": [
    "# Criando modelo\n",
    "model = gp.Model()"
   ]
  },
  {
   "cell_type": "code",
   "execution_count": 6,
   "metadata": {},
   "outputs": [],
   "source": [
    "# Inserindo variáveis de decisão\n",
    "u_ijk = []\n",
    "for j in range(N):\n",
    "    u_ij = model.addVars(squads, tasks[j], vtype=gp.GRB.BINARY) # Ambos os vetores tem apenas rotulos e não valores\n",
    "    u_ijk.append(u_ij)"
   ]
  },
  {
   "cell_type": "markdown",
   "metadata": {},
   "source": [
    "# Definindo as restrições"
   ]
  },
  {
   "cell_type": "code",
   "execution_count": 7,
   "metadata": {},
   "outputs": [],
   "source": [
    "## Garantindo que nenhuma squad tenha sua capacidade máxima exedida\n",
    "c1 = model.addConstrs(\n",
    "    gp.quicksum(u_ijk[j][i,k] * story_points[j][k] for j in range(N) for k in tasks[j]) <= capacities[i] for i in squads\n",
    ")"
   ]
  },
  {
   "cell_type": "code",
   "execution_count": 8,
   "metadata": {},
   "outputs": [],
   "source": [
    "## Garantindo que a especialidade da squad e tarefa sejam a mesma\n",
    "c2 = model.addConstr(\n",
    "    gp.quicksum(u_ijk[j][i,k] * (specialty[i] - req_expertness[j][k]) for j in range(N) for k in tasks[j] for i in squads ) == 0\n",
    ")"
   ]
  },
  {
   "cell_type": "code",
   "execution_count": 9,
   "metadata": {},
   "outputs": [],
   "source": [
    "## Garantindo que pelo menos uma tarefa por cliente seja atendida\n",
    "c3 = model.addConstrs(\n",
    "    gp.quicksum(u_ijk[j][i,k] for k in tasks[j] for i in squads) >= 1 for j in range(N) \n",
    ")"
   ]
  },
  {
   "cell_type": "code",
   "execution_count": 10,
   "metadata": {},
   "outputs": [],
   "source": [
    "## Garantindo que apenas uma squad pegue a mesma tarefa\n",
    "c4 = model.addConstrs(\n",
    "    gp.quicksum(u_ijk[j][i,k] for i in squads) <= 1 for j in range(N) for k in tasks[j] \n",
    ")"
   ]
  },
  {
   "cell_type": "markdown",
   "metadata": {},
   "source": [
    "# Primeira Função Objetivo de Lucro"
   ]
  },
  {
   "cell_type": "code",
   "execution_count": 11,
   "metadata": {},
   "outputs": [],
   "source": [
    "# Define a função objetivo 1 do lucro\n",
    "j = 0\n",
    "model.setObjective(\n",
    "    gp.quicksum(u_ijk[j][i,k] * values[j][k] for j in range(N) for k in tasks[j] for i in squads ),\n",
    "    sense=gp.GRB.MAXIMIZE\n",
    ")"
   ]
  },
  {
   "cell_type": "markdown",
   "metadata": {},
   "source": [
    "## Colocando uma restrição inútil para obter o valor de f2"
   ]
  },
  {
   "cell_type": "code",
   "execution_count": 12,
   "metadata": {},
   "outputs": [],
   "source": [
    "## Para calcular o lucro em f2\n",
    "c5 = model.addConstr(\n",
    "    gp.quicksum(u_ijk[j][i,k] / P_j[j] for j in range(N) for k in tasks[j] for i in squads ) >= 0\n",
    ")"
   ]
  },
  {
   "cell_type": "markdown",
   "metadata": {},
   "source": [
    "## Otimização e resultados"
   ]
  },
  {
   "cell_type": "code",
   "execution_count": 13,
   "metadata": {},
   "outputs": [
    {
     "name": "stdout",
     "output_type": "stream",
     "text": [
      "Gurobi Optimizer version 9.5.2 build v9.5.2rc0 (linux64)\n",
      "Thread count: 2 physical cores, 4 logical processors, using up to 4 threads\n",
      "Optimize a model with 482 rows, 2325 columns and 9300 nonzeros\n",
      "Model fingerprint: 0xfd657522\n",
      "Variable types: 0 continuous, 2325 integer (2325 binary)\n",
      "Coefficient statistics:\n",
      "  Matrix range     [8e-03, 5e+01]\n",
      "  Objective range  [1e+01, 5e+02]\n",
      "  Bounds range     [1e+00, 1e+00]\n",
      "  RHS range        [1e+00, 1e+03]\n",
      "Found heuristic solution: objective 12350.000000\n",
      "Presolve removed 2 rows and 0 columns\n",
      "Presolve time: 0.02s\n",
      "Presolved: 480 rows, 2325 columns, 6975 nonzeros\n",
      "Variable types: 0 continuous, 2325 integer (2325 binary)\n",
      "\n",
      "Root relaxation: objective 1.243000e+04, 356 iterations, 0.01 seconds (0.00 work units)\n",
      "\n",
      "    Nodes    |    Current Node    |     Objective Bounds      |     Work\n",
      " Expl Unexpl |  Obj  Depth IntInf | Incumbent    BestBd   Gap | It/Node Time\n",
      "\n",
      "     0     0 12430.0000    0    5 12350.0000 12430.0000  0.65%     -    0s\n",
      "H    0     0                    12415.000000 12430.0000  0.12%     -    0s\n",
      "     0     0 12430.0000    0    8 12415.0000 12430.0000  0.12%     -    0s\n",
      "H    0     0                    12430.000000 12430.0000  0.00%     -    0s\n",
      "     0     0 12430.0000    0    8 12430.0000 12430.0000  0.00%     -    0s\n",
      "\n",
      "Cutting planes:\n",
      "  MIR: 1\n",
      "  StrongCG: 1\n",
      "  RLT: 5\n",
      "\n",
      "Explored 1 nodes (369 simplex iterations) in 0.09 seconds (0.05 work units)\n",
      "Thread count was 4 (of 4 available processors)\n",
      "\n",
      "Solution count 3: 12430 12415 12350 \n",
      "\n",
      "Optimal solution found (tolerance 1.00e-04)\n",
      "Best objective 1.243000000000e+04, best bound 1.243000000000e+04, gap 0.0000%\n"
     ]
    }
   ],
   "source": [
    "# Executar o modelo\n",
    "model.optimize()"
   ]
  },
  {
   "cell_type": "code",
   "execution_count": 14,
   "metadata": {},
   "outputs": [
    {
     "name": "stdout",
     "output_type": "stream",
     "text": [
      "Qauntidade de tarefas realizadas: 359\n",
      "Função de satisfação: 6.6842307692307665\n"
     ]
    }
   ],
   "source": [
    "# Somando a quantidade de tarefas realizadas pela fabrica de software\n",
    "summation_tasks = 0\n",
    "for j in range(N):\n",
    "    for i in squads:\n",
    "        for k in tasks[j]:\n",
    "            if round(u_ijk[j][i, k].X) == 1:\n",
    "                summation_tasks += 1\n",
    "\n",
    "print(f\"Qauntidade de tarefas realizadas: {summation_tasks}\")\n",
    "print(f\"Função de satisfação: {-c5.Slack}\")"
   ]
  },
  {
   "cell_type": "code",
   "execution_count": 15,
   "metadata": {},
   "outputs": [
    {
     "name": "stdout",
     "output_type": "stream",
     "text": [
      "Valor obtido: 12430.0\n"
     ]
    }
   ],
   "source": [
    "print(f\"Valor obtido: {model.objVal}\")"
   ]
  },
  {
   "cell_type": "markdown",
   "metadata": {},
   "source": [
    "# Segunda Função Objetivo"
   ]
  },
  {
   "cell_type": "code",
   "execution_count": 16,
   "metadata": {},
   "outputs": [],
   "source": [
    "# Define a função objetivo 2 de satisfação\n",
    "j = 0\n",
    "model.setObjective(\n",
    "    gp.quicksum(u_ijk[j][i,k] / P_j[j] for j in range(N) for k in tasks[j] for i in squads ),\n",
    "    sense=gp.GRB.MAXIMIZE\n",
    ")"
   ]
  },
  {
   "cell_type": "markdown",
   "metadata": {},
   "source": [
    "## Colocando uma restrição inútil para calcular o valor obtido"
   ]
  },
  {
   "cell_type": "code",
   "execution_count": 17,
   "metadata": {},
   "outputs": [],
   "source": [
    "## Para calcular o lucro em f2\n",
    "c6 = model.addConstr(\n",
    "    gp.quicksum(u_ijk[j][i,k] * values[j][k] for j in range(N) for k in tasks[j] for i in squads ) >= 0\n",
    ")"
   ]
  },
  {
   "cell_type": "markdown",
   "metadata": {},
   "source": [
    "## Otimização e resultados"
   ]
  },
  {
   "cell_type": "code",
   "execution_count": 18,
   "metadata": {},
   "outputs": [
    {
     "name": "stdout",
     "output_type": "stream",
     "text": [
      "Gurobi Optimizer version 9.5.2 build v9.5.2rc0 (linux64)\n",
      "Thread count: 2 physical cores, 4 logical processors, using up to 4 threads\n",
      "Optimize a model with 483 rows, 2325 columns and 11625 nonzeros\n",
      "Model fingerprint: 0x65adc072\n",
      "Variable types: 0 continuous, 2325 integer (2325 binary)\n",
      "Coefficient statistics:\n",
      "  Matrix range     [8e-03, 5e+02]\n",
      "  Objective range  [8e-03, 2e-01]\n",
      "  Bounds range     [1e+00, 1e+00]\n",
      "  RHS range        [1e+00, 1e+03]\n",
      "\n",
      "Loaded MIP start from previous solve with objective 6.68423\n",
      "\n",
      "Presolve removed 3 rows and 0 columns\n",
      "Presolve time: 0.02s\n",
      "Presolved: 480 rows, 2325 columns, 6975 nonzeros\n",
      "Variable types: 0 continuous, 2325 integer (2325 binary)\n",
      "Found heuristic solution: objective 7.0001748\n",
      "\n",
      "Root relaxation: objective 8.077778e+00, 778 iterations, 0.02 seconds (0.01 work units)\n",
      "\n",
      "    Nodes    |    Current Node    |     Objective Bounds      |     Work\n",
      " Expl Unexpl |  Obj  Depth IntInf | Incumbent    BestBd   Gap | It/Node Time\n",
      "\n",
      "     0     0    8.07778    0    7    7.00017    8.07778  15.4%     -    0s\n",
      "H    0     0                       8.0533333    8.07778  0.30%     -    0s\n",
      "H    0     0                       8.0733333    8.07778  0.06%     -    0s\n",
      "     0     0    8.07778    0    8    8.07333    8.07778  0.06%     -    0s\n",
      "     0     0    8.07778    0   14    8.07333    8.07778  0.06%     -    0s\n",
      "     0     0    8.07778    0    9    8.07333    8.07778  0.06%     -    0s\n",
      "     0     0    8.07778    0    3    8.07333    8.07778  0.06%     -    0s\n",
      "     0     0    8.07778    0    5    8.07333    8.07778  0.06%     -    0s\n",
      "     0     0    8.07778    0    7    8.07333    8.07778  0.06%     -    0s\n",
      "     0     0    8.07778    0    7    8.07333    8.07778  0.06%     -    0s\n",
      "     0     0    8.07778    0    5    8.07333    8.07778  0.06%     -    0s\n",
      "     0     0    8.07778    0    5    8.07333    8.07778  0.06%     -    0s\n",
      "     0     2    8.07778    0    5    8.07333    8.07778  0.06%     -    0s\n",
      "\n",
      "Cutting planes:\n",
      "  Gomory: 1\n",
      "  MIR: 1\n",
      "  StrongCG: 1\n",
      "  Flow cover: 2\n",
      "  RLT: 2\n",
      "\n",
      "Explored 2742 nodes (65296 simplex iterations) in 3.57 seconds (6.21 work units)\n",
      "Thread count was 4 (of 4 available processors)\n",
      "\n",
      "Solution count 4: 8.07333 8.05333 7.00017 6.68423 \n",
      "\n",
      "Optimal solution found (tolerance 1.00e-04)\n",
      "Best objective 8.073333333333e+00, best bound 8.073846153846e+00, gap 0.0064%\n"
     ]
    }
   ],
   "source": [
    "# Executar o modelo\n",
    "model.optimize()"
   ]
  },
  {
   "cell_type": "code",
   "execution_count": 19,
   "metadata": {},
   "outputs": [
    {
     "name": "stdout",
     "output_type": "stream",
     "text": [
      "Qauntidade de tarefas realizadas: 388\n",
      "Função de satisfação: 8.07333333333333\n"
     ]
    }
   ],
   "source": [
    "# Somando a quantidade de tarefas realizadas pela fabrica de software\n",
    "summation_tasks = 0\n",
    "for j in range(N):\n",
    "    for i in squads:\n",
    "        for k in tasks[j]:\n",
    "            if round(u_ijk[j][i, k].X) == 1:\n",
    "                summation_tasks += 1\n",
    "\n",
    "print(f\"Qauntidade de tarefas realizadas: {summation_tasks}\")\n",
    "print(f\"Função de satisfação: {model.objVal}\")"
   ]
  },
  {
   "cell_type": "code",
   "execution_count": 20,
   "metadata": {},
   "outputs": [
    {
     "name": "stdout",
     "output_type": "stream",
     "text": [
      "Valor obtido: 11780.0\n"
     ]
    }
   ],
   "source": [
    "print(f\"Valor obtido: {-c6.Slack}\")"
   ]
  },
  {
   "cell_type": "code",
   "execution_count": null,
   "metadata": {},
   "outputs": [],
   "source": []
  }
 ],
 "metadata": {
  "kernelspec": {
   "display_name": "Python 3.8.10 64-bit",
   "language": "python",
   "name": "python3"
  },
  "language_info": {
   "codemirror_mode": {
    "name": "ipython",
    "version": 3
   },
   "file_extension": ".py",
   "mimetype": "text/x-python",
   "name": "python",
   "nbconvert_exporter": "python",
   "pygments_lexer": "ipython3",
   "version": "3.8.10"
  },
  "orig_nbformat": 4,
  "vscode": {
   "interpreter": {
    "hash": "e7370f93d1d0cde622a1f8e1c04877d8463912d04d973331ad4851f04de6915a"
   }
  }
 },
 "nbformat": 4,
 "nbformat_minor": 2
}
