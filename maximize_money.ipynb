{
 "cells": [
  {
   "cell_type": "code",
   "execution_count": 2,
   "metadata": {},
   "outputs": [],
   "source": [
    "import gurobipy as gp"
   ]
  },
  {
   "cell_type": "code",
   "execution_count": 3,
   "metadata": {},
   "outputs": [],
   "source": [
    "M = 5\n",
    "N = 10\n",
    "\n",
    "cs_i = [ 400 , 100 , 600 , 1000 , 150 ]\n",
    "ct_jk = [ 2 , 10 , 50 , 3 , 5 , 6 , 15 , 30 , 18 , 30 ]\n",
    "\n",
    "P_j = [ 100 , 30 , 5 , 130 , 55 , 40 , 15 , 30 , 50 , 10 ]\n",
    "c_jk = [ 10 , 50 , 500 , 15 , 25 , 30 , 75 , 150 , 90 , 80 ]\n",
    "\n",
    "\n",
    "es_i = [ 1 , 1 , 1 , 1 , 1 ]\n",
    "et_jk = [  1 , 1 , 1 , 1 , 1 , 1 , 1 , 1 , 1 , 1 ]"
   ]
  },
  {
   "cell_type": "code",
   "execution_count": 7,
   "metadata": {},
   "outputs": [],
   "source": [
    "# Rotulos dos clientes\n",
    "clients = []\n",
    "for j in range(N):\n",
    "    clients.append(f\"Client_{j}\")\n",
    "\n",
    "# Rotulos das squads\n",
    "squads = []\n",
    "for i in range(M):\n",
    "    squads.append(f\"Squad_{i}\")\n",
    "\n",
    "# Rotulos das tarefas\n",
    "tasks = []\n",
    "for j in range(N):\n",
    "    tasks_j  = []\n",
    "    for k in range(P_j[j]):\n",
    "        tasks_j.append(f\"Task_{j}_{k}\")\n",
    "    \n",
    "    tasks.append(tasks_j)\n"
   ]
  },
  {
   "cell_type": "code",
   "execution_count": 29,
   "metadata": {},
   "outputs": [],
   "source": [
    "# Dicionário das capacidades das Squads\n",
    "capacities = {}\n",
    "specialty = {}\n",
    "for i, cap in enumerate(cs_i):\n",
    "    label = squads[i]\n",
    "    capacities[label] = cap\n",
    "    specialty[label] = es_i[i]\n",
    "\n",
    "# Dicionário da quantidade de tarefas por cliente\n",
    "qtd_tasks = {}\n",
    "for j, qtd in enumerate(P_j):\n",
    "    label = clients[j]\n",
    "    qtd_tasks[label] = qtd\n",
    "\n",
    "# Dicionário de valor, Story Points e especialidade de cada tarefa\n",
    "values = []\n",
    "story_points = []\n",
    "req_expertness = []\n",
    "for j, qtd in enumerate(P_j):\n",
    "    value = {}\n",
    "    story_point = {}\n",
    "    req_expertise = {}\n",
    "    for k, label in enumerate(tasks[j]):\n",
    "        value[label] = c_jk[j]\n",
    "        story_point[label] = ct_jk[j]\n",
    "        req_expertise[label] = et_jk[j]\n",
    "    \n",
    "    values.append(value)\n",
    "    story_points.append(story_point)\n",
    "    req_expertness.append(req_expertise)"
   ]
  },
  {
   "cell_type": "code",
   "execution_count": 22,
   "metadata": {},
   "outputs": [],
   "source": [
    "# Criando modelo\n",
    "model = gp.Model()"
   ]
  },
  {
   "cell_type": "code",
   "execution_count": 23,
   "metadata": {},
   "outputs": [],
   "source": [
    "# Inserindo variáveis de decisão\n",
    "u_ijk = []\n",
    "for j in range(N):\n",
    "    u_ij = model.addVars(squads, tasks[j], vtype=gp.GRB.BINARY) # Ambos os vetores tem apenas rotulos e não valores\n",
    "    u_ijk.append(u_ij)"
   ]
  },
  {
   "cell_type": "code",
   "execution_count": 25,
   "metadata": {},
   "outputs": [],
   "source": [
    "# Define a função objetivo 1 do lucro\n",
    "j = 0\n",
    "model.setObjective(\n",
    "    gp.quicksum(u_ijk[j][i,k] * values[j][k] for j in range(N) for k in tasks[j] for i in squads ),\n",
    "    sense=gp.GRB.MAXIMIZE\n",
    ")"
   ]
  },
  {
   "cell_type": "markdown",
   "metadata": {},
   "source": [
    "# Definindo as restrições"
   ]
  },
  {
   "cell_type": "code",
   "execution_count": 36,
   "metadata": {},
   "outputs": [],
   "source": [
    "## Garantindo que nenhuma squad tenha sua capacidade máxima exedida\n",
    "c1 = model.addConstrs(\n",
    "    gp.quicksum(u_ijk[j][i,k] * story_points[j][k] for j in range(N) for k in tasks[j]) <= capacities[i] for i in squads\n",
    ")"
   ]
  },
  {
   "cell_type": "code",
   "execution_count": 37,
   "metadata": {},
   "outputs": [],
   "source": [
    "## Garantindo que a especialidade da squad e tarefa sejam a mesma\n",
    "c2 = model.addConstr(\n",
    "    gp.quicksum(u_ijk[j][i,k] * (specialty[i] - req_expertness[j][k]) for j in range(N) for k in tasks[j] for i in squads ) == 0\n",
    ")"
   ]
  },
  {
   "cell_type": "code",
   "execution_count": 43,
   "metadata": {},
   "outputs": [],
   "source": [
    "## Garantindo que pelo menos uma tarefa por cliente seja atendida\n",
    "c3 = model.addConstrs(\n",
    "    gp.quicksum(u_ijk[j][i,k] for k in tasks[j] for i in squads) >= 1 for j in range(N) \n",
    ")"
   ]
  },
  {
   "cell_type": "code",
   "execution_count": 44,
   "metadata": {},
   "outputs": [],
   "source": [
    "## Garantindo que apenas uma squad pegue a mesma tarefa\n",
    "c4 = model.addConstrs(\n",
    "    gp.quicksum(u_ijk[j][i,k] for i in squads) <= 1 for j in range(N) for k in tasks[j] \n",
    ")"
   ]
  },
  {
   "cell_type": "code",
   "execution_count": null,
   "metadata": {},
   "outputs": [],
   "source": []
  }
 ],
 "metadata": {
  "kernelspec": {
   "display_name": "Python 3.8.10 64-bit",
   "language": "python",
   "name": "python3"
  },
  "language_info": {
   "codemirror_mode": {
    "name": "ipython",
    "version": 3
   },
   "file_extension": ".py",
   "mimetype": "text/x-python",
   "name": "python",
   "nbconvert_exporter": "python",
   "pygments_lexer": "ipython3",
   "version": "3.8.10"
  },
  "orig_nbformat": 4,
  "vscode": {
   "interpreter": {
    "hash": "e7370f93d1d0cde622a1f8e1c04877d8463912d04d973331ad4851f04de6915a"
   }
  }
 },
 "nbformat": 4,
 "nbformat_minor": 2
}
